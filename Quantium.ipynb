{
 "cells": [
  {
   "cell_type": "code",
   "execution_count": 2,
   "id": "659b09e2-ace3-48fe-80de-6dcf16f1ffd5",
   "metadata": {},
   "outputs": [],
   "source": [
    "import numpy as np\n",
    "import pandas as pd"
   ]
  },
  {
   "cell_type": "code",
   "execution_count": 5,
   "id": "7651f7ae-113b-4dd5-887d-1709b95fb743",
   "metadata": {},
   "outputs": [],
   "source": [
    "purchase = pd.read_csv(\"QVI_purchase_behaviour.csv\")\n",
    "transaction = pd.read_excel(\"QVI_transaction_data.xlsx\")"
   ]
  },
  {
   "cell_type": "code",
   "execution_count": 8,
   "id": "759b61a6-2859-4a8a-b309-9cb2eea6a175",
   "metadata": {},
   "outputs": [
    {
     "data": {
      "text/html": [
       "<div>\n",
       "<style scoped>\n",
       "    .dataframe tbody tr th:only-of-type {\n",
       "        vertical-align: middle;\n",
       "    }\n",
       "\n",
       "    .dataframe tbody tr th {\n",
       "        vertical-align: top;\n",
       "    }\n",
       "\n",
       "    .dataframe thead th {\n",
       "        text-align: right;\n",
       "    }\n",
       "</style>\n",
       "<table border=\"1\" class=\"dataframe\">\n",
       "  <thead>\n",
       "    <tr style=\"text-align: right;\">\n",
       "      <th></th>\n",
       "      <th>LYLTY_CARD_NBR</th>\n",
       "      <th>LIFESTAGE</th>\n",
       "      <th>PREMIUM_CUSTOMER</th>\n",
       "    </tr>\n",
       "  </thead>\n",
       "  <tbody>\n",
       "    <tr>\n",
       "      <th>0</th>\n",
       "      <td>1000</td>\n",
       "      <td>YOUNG SINGLES/COUPLES</td>\n",
       "      <td>Premium</td>\n",
       "    </tr>\n",
       "    <tr>\n",
       "      <th>1</th>\n",
       "      <td>1002</td>\n",
       "      <td>YOUNG SINGLES/COUPLES</td>\n",
       "      <td>Mainstream</td>\n",
       "    </tr>\n",
       "    <tr>\n",
       "      <th>2</th>\n",
       "      <td>1003</td>\n",
       "      <td>YOUNG FAMILIES</td>\n",
       "      <td>Budget</td>\n",
       "    </tr>\n",
       "    <tr>\n",
       "      <th>3</th>\n",
       "      <td>1004</td>\n",
       "      <td>OLDER SINGLES/COUPLES</td>\n",
       "      <td>Mainstream</td>\n",
       "    </tr>\n",
       "    <tr>\n",
       "      <th>4</th>\n",
       "      <td>1005</td>\n",
       "      <td>MIDAGE SINGLES/COUPLES</td>\n",
       "      <td>Mainstream</td>\n",
       "    </tr>\n",
       "  </tbody>\n",
       "</table>\n",
       "</div>"
      ],
      "text/plain": [
       "   LYLTY_CARD_NBR               LIFESTAGE PREMIUM_CUSTOMER\n",
       "0            1000   YOUNG SINGLES/COUPLES          Premium\n",
       "1            1002   YOUNG SINGLES/COUPLES       Mainstream\n",
       "2            1003          YOUNG FAMILIES           Budget\n",
       "3            1004   OLDER SINGLES/COUPLES       Mainstream\n",
       "4            1005  MIDAGE SINGLES/COUPLES       Mainstream"
      ]
     },
     "execution_count": 8,
     "metadata": {},
     "output_type": "execute_result"
    }
   ],
   "source": [
    "purchase.head()\n"
   ]
  },
  {
   "cell_type": "code",
   "execution_count": 9,
   "id": "54b2f93f-0cab-4140-acda-452d9dfa1bf7",
   "metadata": {},
   "outputs": [
    {
     "data": {
      "text/html": [
       "<div>\n",
       "<style scoped>\n",
       "    .dataframe tbody tr th:only-of-type {\n",
       "        vertical-align: middle;\n",
       "    }\n",
       "\n",
       "    .dataframe tbody tr th {\n",
       "        vertical-align: top;\n",
       "    }\n",
       "\n",
       "    .dataframe thead th {\n",
       "        text-align: right;\n",
       "    }\n",
       "</style>\n",
       "<table border=\"1\" class=\"dataframe\">\n",
       "  <thead>\n",
       "    <tr style=\"text-align: right;\">\n",
       "      <th></th>\n",
       "      <th>DATE</th>\n",
       "      <th>STORE_NBR</th>\n",
       "      <th>LYLTY_CARD_NBR</th>\n",
       "      <th>TXN_ID</th>\n",
       "      <th>PROD_NBR</th>\n",
       "      <th>PROD_NAME</th>\n",
       "      <th>PROD_QTY</th>\n",
       "      <th>TOT_SALES</th>\n",
       "    </tr>\n",
       "  </thead>\n",
       "  <tbody>\n",
       "    <tr>\n",
       "      <th>0</th>\n",
       "      <td>43390</td>\n",
       "      <td>1</td>\n",
       "      <td>1000</td>\n",
       "      <td>1</td>\n",
       "      <td>5</td>\n",
       "      <td>Natural Chip        Compny SeaSalt175g</td>\n",
       "      <td>2</td>\n",
       "      <td>6.0</td>\n",
       "    </tr>\n",
       "    <tr>\n",
       "      <th>1</th>\n",
       "      <td>43599</td>\n",
       "      <td>1</td>\n",
       "      <td>1307</td>\n",
       "      <td>348</td>\n",
       "      <td>66</td>\n",
       "      <td>CCs Nacho Cheese    175g</td>\n",
       "      <td>3</td>\n",
       "      <td>6.3</td>\n",
       "    </tr>\n",
       "    <tr>\n",
       "      <th>2</th>\n",
       "      <td>43605</td>\n",
       "      <td>1</td>\n",
       "      <td>1343</td>\n",
       "      <td>383</td>\n",
       "      <td>61</td>\n",
       "      <td>Smiths Crinkle Cut  Chips Chicken 170g</td>\n",
       "      <td>2</td>\n",
       "      <td>2.9</td>\n",
       "    </tr>\n",
       "    <tr>\n",
       "      <th>3</th>\n",
       "      <td>43329</td>\n",
       "      <td>2</td>\n",
       "      <td>2373</td>\n",
       "      <td>974</td>\n",
       "      <td>69</td>\n",
       "      <td>Smiths Chip Thinly  S/Cream&amp;Onion 175g</td>\n",
       "      <td>5</td>\n",
       "      <td>15.0</td>\n",
       "    </tr>\n",
       "    <tr>\n",
       "      <th>4</th>\n",
       "      <td>43330</td>\n",
       "      <td>2</td>\n",
       "      <td>2426</td>\n",
       "      <td>1038</td>\n",
       "      <td>108</td>\n",
       "      <td>Kettle Tortilla ChpsHny&amp;Jlpno Chili 150g</td>\n",
       "      <td>3</td>\n",
       "      <td>13.8</td>\n",
       "    </tr>\n",
       "  </tbody>\n",
       "</table>\n",
       "</div>"
      ],
      "text/plain": [
       "    DATE  STORE_NBR  LYLTY_CARD_NBR  TXN_ID  PROD_NBR  \\\n",
       "0  43390          1            1000       1         5   \n",
       "1  43599          1            1307     348        66   \n",
       "2  43605          1            1343     383        61   \n",
       "3  43329          2            2373     974        69   \n",
       "4  43330          2            2426    1038       108   \n",
       "\n",
       "                                  PROD_NAME  PROD_QTY  TOT_SALES  \n",
       "0    Natural Chip        Compny SeaSalt175g         2        6.0  \n",
       "1                  CCs Nacho Cheese    175g         3        6.3  \n",
       "2    Smiths Crinkle Cut  Chips Chicken 170g         2        2.9  \n",
       "3    Smiths Chip Thinly  S/Cream&Onion 175g         5       15.0  \n",
       "4  Kettle Tortilla ChpsHny&Jlpno Chili 150g         3       13.8  "
      ]
     },
     "execution_count": 9,
     "metadata": {},
     "output_type": "execute_result"
    }
   ],
   "source": [
    "transaction.head()"
   ]
  },
  {
   "cell_type": "code",
   "execution_count": 13,
   "id": "651f3602-caaa-4803-916c-b95026d32f71",
   "metadata": {},
   "outputs": [
    {
     "data": {
      "text/plain": [
       "DATE   STORE_NBR  LYLTY_CARD_NBR  TXN_ID  PROD_NBR  PROD_NAME                                 PROD_QTY  TOT_SALES\n",
       "43374  107        107024          108462  45        Smiths Thinly Cut   Roast Chicken 175g    2         6.0          2\n",
       "43282  1          1233            266     110       WW Original Corn    Chips 200g            1         1.9          1\n",
       "                  1482            563     8         Smiths Crinkle Cut  Chips Original 170g   1         2.9          1\n",
       "       2          2117            712     73        Smiths Crinkle Cut  Salt & Vinegar 170g   1         2.9          1\n",
       "                  2283            895     108       Kettle Tortilla ChpsHny&Jlpno Chili 150g  2         9.2          1\n",
       "                                                                                                                    ..\n",
       "43646  271        271121          268918  75        Cobs Popd Sea Salt  Chips 110g            2         7.6          1\n",
       "                  271160          269155  27        WW Supreme Cheese   Corn Chips 200g       2         3.8          1\n",
       "                  271203          269422  22        Thins Chips         Originl saltd 175g    2         6.6          1\n",
       "       272        272074          269737  60        Kettle Tortilla ChpsFeta&Garlic 150g      2         9.2          1\n",
       "                  272096          269769  49        Infuzions SourCream&Herbs Veg Strws 110g  2         7.6          1\n",
       "Name: count, Length: 264835, dtype: int64"
      ]
     },
     "execution_count": 13,
     "metadata": {},
     "output_type": "execute_result"
    }
   ],
   "source": [
    "transaction.value_counts()"
   ]
  },
  {
   "cell_type": "code",
   "execution_count": 14,
   "id": "7d3b4b42-4797-4789-bb9e-feffcb6754fb",
   "metadata": {},
   "outputs": [
    {
     "data": {
      "text/plain": [
       "LYLTY_CARD_NBR  LIFESTAGE               PREMIUM_CUSTOMER\n",
       "2373711         YOUNG SINGLES/COUPLES   Mainstream          1\n",
       "1000            YOUNG SINGLES/COUPLES   Premium             1\n",
       "1002            YOUNG SINGLES/COUPLES   Mainstream          1\n",
       "1003            YOUNG FAMILIES          Budget              1\n",
       "1004            OLDER SINGLES/COUPLES   Mainstream          1\n",
       "                                                           ..\n",
       "1024            YOUNG SINGLES/COUPLES   Premium             1\n",
       "1023            MIDAGE SINGLES/COUPLES  Premium             1\n",
       "1022            OLDER FAMILIES          Budget              1\n",
       "1020            YOUNG SINGLES/COUPLES   Mainstream          1\n",
       "1019            OLDER SINGLES/COUPLES   Premium             1\n",
       "Name: count, Length: 72637, dtype: int64"
      ]
     },
     "execution_count": 14,
     "metadata": {},
     "output_type": "execute_result"
    }
   ],
   "source": [
    "purchase.value_counts()"
   ]
  },
  {
   "cell_type": "code",
   "execution_count": 15,
   "id": "217feac0-e152-483f-a159-40ace5b82806",
   "metadata": {},
   "outputs": [
    {
     "name": "stdout",
     "output_type": "stream",
     "text": [
      "0\n",
      "0\n"
     ]
    }
   ],
   "source": [
    "print(len(transaction.loc[transaction.PROD_QTY <0,:]))\n",
    "print(len(transaction.loc[transaction.TOT_SALES<0,:]))"
   ]
  },
  {
   "cell_type": "code",
   "execution_count": 16,
   "id": "19ac3424-5b5f-44ac-a74f-23a7667d2327",
   "metadata": {},
   "outputs": [
    {
     "data": {
      "text/plain": [
       "DATE              False\n",
       "STORE_NBR         False\n",
       "LYLTY_CARD_NBR    False\n",
       "TXN_ID            False\n",
       "PROD_NBR          False\n",
       "PROD_NAME         False\n",
       "PROD_QTY          False\n",
       "TOT_SALES         False\n",
       "dtype: bool"
      ]
     },
     "execution_count": 16,
     "metadata": {},
     "output_type": "execute_result"
    }
   ],
   "source": [
    "transaction.isna().any()"
   ]
  },
  {
   "cell_type": "code",
   "execution_count": 17,
   "id": "f1ece858-beaa-49f4-95e4-882d2a8140f7",
   "metadata": {},
   "outputs": [
    {
     "data": {
      "text/plain": [
       "LYLTY_CARD_NBR      False\n",
       "LIFESTAGE           False\n",
       "PREMIUM_CUSTOMER    False\n",
       "dtype: bool"
      ]
     },
     "execution_count": 17,
     "metadata": {},
     "output_type": "execute_result"
    }
   ],
   "source": [
    "purchase.isna().any()"
   ]
  },
  {
   "cell_type": "code",
   "execution_count": 18,
   "id": "1212d2f2-81af-4138-abfd-5d718455f183",
   "metadata": {},
   "outputs": [
    {
     "name": "stdout",
     "output_type": "stream",
     "text": [
      "['DATE' 'STORE_NBR' 'LYLTY_CARD_NBR' 'TXN_ID' 'PROD_NBR' 'PROD_NAME'\n",
      " 'PROD_QTY' 'TOT_SALES']\n"
     ]
    }
   ],
   "source": [
    "print(transaction.columns.values)"
   ]
  },
  {
   "cell_type": "code",
   "execution_count": 19,
   "id": "97fa35d0-f596-4459-9325-7f0cd0ea1cdc",
   "metadata": {},
   "outputs": [
    {
     "name": "stdout",
     "output_type": "stream",
     "text": [
      "['LYLTY_CARD_NBR' 'LIFESTAGE' 'PREMIUM_CUSTOMER']\n"
     ]
    }
   ],
   "source": [
    "print(purchase.columns.values)"
   ]
  },
  {
   "cell_type": "code",
   "execution_count": 21,
   "id": "c8bc4184-b322-4618-aa0c-1080039d3683",
   "metadata": {},
   "outputs": [],
   "source": [
    "quantium = pd.merge(transaction,purchase.set_index('LYLTY_CARD_NBR'), left_on = 'LYLTY_CARD_NBR', right_index = True)"
   ]
  },
  {
   "cell_type": "code",
   "execution_count": 22,
   "id": "ba6f94ef-ecd6-46e5-8480-217982dc56b0",
   "metadata": {},
   "outputs": [
    {
     "name": "stdout",
     "output_type": "stream",
     "text": [
      "['DATE' 'STORE_NBR' 'LYLTY_CARD_NBR' 'TXN_ID' 'PROD_NBR' 'PROD_NAME'\n",
      " 'PROD_QTY' 'TOT_SALES' 'LIFESTAGE' 'PREMIUM_CUSTOMER']\n"
     ]
    }
   ],
   "source": [
    "print(quantium.columns.values)"
   ]
  },
  {
   "cell_type": "code",
   "execution_count": 24,
   "id": "049d37d3-12a3-4eb2-b589-fd738254d9af",
   "metadata": {},
   "outputs": [
    {
     "data": {
      "text/plain": [
       "(264836, 8)"
      ]
     },
     "execution_count": 24,
     "metadata": {},
     "output_type": "execute_result"
    }
   ],
   "source": [
    "transaction.shape"
   ]
  },
  {
   "cell_type": "code",
   "execution_count": 25,
   "id": "d461df3c-8a99-4809-8cd2-c3f5ed2184f1",
   "metadata": {},
   "outputs": [
    {
     "data": {
      "text/plain": [
       "(72637, 3)"
      ]
     },
     "execution_count": 25,
     "metadata": {},
     "output_type": "execute_result"
    }
   ],
   "source": [
    "purchase.shape"
   ]
  },
  {
   "cell_type": "code",
   "execution_count": 26,
   "id": "ddc7a029-5176-4dca-b23d-288a8ad1c88e",
   "metadata": {},
   "outputs": [
    {
     "data": {
      "text/plain": [
       "(264836, 10)"
      ]
     },
     "execution_count": 26,
     "metadata": {},
     "output_type": "execute_result"
    }
   ],
   "source": [
    "quantium.shape"
   ]
  },
  {
   "cell_type": "code",
   "execution_count": 28,
   "id": "624739bc-c6be-4333-8809-3dc29379c587",
   "metadata": {},
   "outputs": [],
   "source": [
    "loyal = quantium.loc[:,['STORE_NBR','LIFESTAGE','PREMIUM_CUSTOMER']]"
   ]
  },
  {
   "cell_type": "code",
   "execution_count": 30,
   "id": "5d0b8a21-1140-4771-9ddf-79a85813380a",
   "metadata": {},
   "outputs": [
    {
     "data": {
      "text/plain": [
       "STORE_NBR  LIFESTAGE               PREMIUM_CUSTOMER\n",
       "93         OLDER FAMILIES          Budget              330\n",
       "43         OLDER FAMILIES          Budget              304\n",
       "156        OLDER FAMILIES          Budget              254\n",
       "30         OLDER FAMILIES          Budget              248\n",
       "105        OLDER FAMILIES          Budget              247\n",
       "                                                      ... \n",
       "140        YOUNG FAMILIES          Mainstream            1\n",
       "229        MIDAGE SINGLES/COUPLES  Budget                1\n",
       "52         YOUNG FAMILIES          Premium               1\n",
       "177        YOUNG FAMILIES          Premium               1\n",
       "127        MIDAGE SINGLES/COUPLES  Mainstream            1\n",
       "Name: count, Length: 5410, dtype: int64"
      ]
     },
     "execution_count": 30,
     "metadata": {},
     "output_type": "execute_result"
    }
   ],
   "source": [
    "loyal.value_counts()"
   ]
  },
  {
   "cell_type": "code",
   "execution_count": 33,
   "id": "6c6cdafb-2c0b-4c09-8b25-818814c07a10",
   "metadata": {},
   "outputs": [],
   "source": [
    "sales = quantium.loc[:,['DATE', 'STORE_NBR', 'PROD_NBR','TOT_SALES']]"
   ]
  },
  {
   "cell_type": "code",
   "execution_count": 34,
   "id": "dfde0d95-d10b-48bb-817d-966ec2077230",
   "metadata": {},
   "outputs": [
    {
     "data": {
      "text/plain": [
       "DATE   STORE_NBR  PROD_NBR  TOT_SALES\n",
       "43626  225        53        6.0          4\n",
       "43368  226        14        11.8         3\n",
       "43391  199        52        7.2          3\n",
       "43318  72         36        10.8         3\n",
       "43335  36         113       9.2          3\n",
       "                                        ..\n",
       "43282  8          104       7.6          1\n",
       "       9          11        6.0          1\n",
       "                  45        6.0          1\n",
       "                  66        4.2          1\n",
       "       3          81        7.4          1\n",
       "Name: count, Length: 259639, dtype: int64"
      ]
     },
     "execution_count": 34,
     "metadata": {},
     "output_type": "execute_result"
    }
   ],
   "source": [
    "sales.value_counts()"
   ]
  },
  {
   "cell_type": "code",
   "execution_count": 38,
   "id": "49e04ed8-fb58-48cf-87f3-9b714c1c9e24",
   "metadata": {},
   "outputs": [
    {
     "ename": "SyntaxError",
     "evalue": "invalid syntax (144523731.py, line 2)",
     "output_type": "error",
     "traceback": [
      "\u001b[1;36m  Cell \u001b[1;32mIn[38], line 2\u001b[1;36m\u001b[0m\n\u001b[1;33m    quantium.loc[:,['PROD_NB'],for p in 'PROD_NB': i++; print('PROD_NM',i)]\u001b[0m\n\u001b[1;37m                               ^\u001b[0m\n\u001b[1;31mSyntaxError\u001b[0m\u001b[1;31m:\u001b[0m invalid syntax\n"
     ]
    }
   ],
   "source": [
    "#demand = quantium.loc[:,[\n",
    "quantium.loc[:,['PROD_NB'],for p in 'PROD_NB': i++; print('PROD_NM',i)]"
   ]
  },
  {
   "cell_type": "code",
   "execution_count": 40,
   "id": "467ec2f5-9d7b-4023-a125-8ff11affcc44",
   "metadata": {},
   "outputs": [
    {
     "data": {
      "text/plain": [
       "array(['YOUNG SINGLES/COUPLES', 'MIDAGE SINGLES/COUPLES', 'NEW FAMILIES',\n",
       "       'OLDER FAMILIES', 'OLDER SINGLES/COUPLES', 'RETIREES',\n",
       "       'YOUNG FAMILIES'], dtype=object)"
      ]
     },
     "execution_count": 40,
     "metadata": {},
     "output_type": "execute_result"
    }
   ],
   "source": [
    "quantium['LIFESTAGE'].unique()"
   ]
  },
  {
   "cell_type": "code",
   "execution_count": 41,
   "id": "d8bc0afc-7d78-4722-bea2-025e7ed0388d",
   "metadata": {},
   "outputs": [
    {
     "data": {
      "text/plain": [
       "array(['Premium', 'Budget', 'Mainstream'], dtype=object)"
      ]
     },
     "execution_count": 41,
     "metadata": {},
     "output_type": "execute_result"
    }
   ],
   "source": [
    "quantium['PREMIUM_CUSTOMER'].unique()"
   ]
  },
  {
   "cell_type": "code",
   "execution_count": null,
   "id": "3478da1c-a434-4aa6-9c35-b0f56d3e75d2",
   "metadata": {},
   "outputs": [],
   "source": []
  }
 ],
 "metadata": {
  "kernelspec": {
   "display_name": "Python 3 (ipykernel)",
   "language": "python",
   "name": "python3"
  },
  "language_info": {
   "codemirror_mode": {
    "name": "ipython",
    "version": 3
   },
   "file_extension": ".py",
   "mimetype": "text/x-python",
   "name": "python",
   "nbconvert_exporter": "python",
   "pygments_lexer": "ipython3",
   "version": "3.12.5"
  }
 },
 "nbformat": 4,
 "nbformat_minor": 5
}
